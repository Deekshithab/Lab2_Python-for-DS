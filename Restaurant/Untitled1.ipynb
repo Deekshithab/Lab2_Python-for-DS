{
 "cells": [
  {
   "cell_type": "code",
   "execution_count": null,
   "id": "291a0fb2-2fec-494b-903c-9131e3a2b108",
   "metadata": {},
   "outputs": [],
   "source": [
    "import pandas as pd\n",
    "import numpy as np\n",
    "import seaborn as sns\n",
    "import matplotlib.pyplot as plt\n",
    "import warnings\n",
    "warnings.filterwarnings('ignore')\n",
    "\n",
    "import sklearn\n",
    "from sklearn.preprocessing import StandardScaler,LabelEncoder, MinMaxScaler\n",
    "from sklearn.model_selection import train_test_split\n",
    "from sklearn.linear_model import LinearRegression \n",
    "from sklearn.metrics import r2_score"
   ]
  },
  {
   "cell_type": "code",
   "execution_count": null,
   "id": "16d75c67-e48d-48e8-82d3-06540833d05f",
   "metadata": {},
   "outputs": [],
   "source": [
    "from google.colab import drive\n",
    "drive.mount('/content/drive')\n",
    "Mounted at /content/drive\n",
    "df = pd.read_csv('/content/drive/MyDrive/Datasets/tips.csv')\n",
    "df.head()"
   ]
  },
  {
   "cell_type": "code",
   "execution_count": null,
   "id": "85d25053-e282-4888-8b69-0171002c77f5",
   "metadata": {},
   "outputs": [],
   "source": [
    "#df = pd.read_csv('tips.csv')\n",
    "#df.head()"
   ]
  },
  {
   "cell_type": "code",
   "execution_count": null,
   "id": "56460b96-81ac-447d-b779-7559de436421",
   "metadata": {},
   "outputs": [],
   "source": [
    "cat = []\n",
    "num = []\n",
    "for i in df.columns:\n",
    "    if df[i].dtypes=='object':\n",
    "        cat.append(i)\n",
    "    else:\n",
    "        num.append(i)      \n",
    "print('The categorical variables are:\\n',cat,'\\n')\n",
    "print('The numerical variables are:\\n',num)\n",
    "The categorical variables are:\n",
    " ['sex', 'smoker', 'day', 'time'] \n",
    "\n",
    "The numerical variables are:\n",
    " ['total_bill', 'tip', 'size']"
   ]
  },
  {
   "cell_type": "code",
   "execution_count": null,
   "id": "39a4c213-c78d-4d8b-aed1-1eb9f9b698fc",
   "metadata": {},
   "outputs": [],
   "source": [
    "df.groupby('day')['total_bill'].mean()\n"
   ]
  },
  {
   "cell_type": "code",
   "execution_count": null,
   "id": "f17da3dd-b967-4f9c-96fa-fd509df27b71",
   "metadata": {},
   "outputs": [],
   "source": [
    "df.groupby('sex')['tip'].mean()\n"
   ]
  },
  {
   "cell_type": "code",
   "execution_count": null,
   "id": "dc5bcf79-f442-42aa-959b-18de1484f8e0",
   "metadata": {},
   "outputs": [],
   "source": [
    "df.groupby('time')['size'].count()\n"
   ]
  },
  {
   "cell_type": "code",
   "execution_count": null,
   "id": "460e675c-8764-4808-b08d-5ed0ef1c6de0",
   "metadata": {},
   "outputs": [],
   "source": [
    "df['tip'].describe()\n"
   ]
  },
  {
   "cell_type": "code",
   "execution_count": null,
   "id": "c780d3bb-cdaf-4f79-883a-eec9e8851780",
   "metadata": {},
   "outputs": [],
   "source": [
    "df.day.mode()\n"
   ]
  },
  {
   "cell_type": "code",
   "execution_count": null,
   "id": "dab8053b-9018-4862-8b10-2ce9df1bc7a1",
   "metadata": {},
   "outputs": [],
   "source": [
    "sns.distplot(df['total_bill'])\n",
    "plt.show()\n",
    "df['total_bill'].skew()\n"
   ]
  },
  {
   "cell_type": "code",
   "execution_count": null,
   "id": "3b0e6dbd-550d-40ec-aa0d-924858a85edf",
   "metadata": {},
   "outputs": [],
   "source": [
    "df[['tip','total_bill']].corr()\n"
   ]
  },
  {
   "cell_type": "code",
   "execution_count": null,
   "id": "b4db6601-f224-47ae-a78f-a3009fba3420",
   "metadata": {},
   "outputs": [],
   "source": [
    "sns.scatterplot(x='total_bill',y='tip',data=df)\n",
    "plt.show()"
   ]
  },
  {
   "cell_type": "code",
   "execution_count": null,
   "id": "5c86bd9a-08c1-4f70-9d75-9874ed7ecbe6",
   "metadata": {},
   "outputs": [],
   "source": [
    "df['sex'].value_counts(normalize=True).plot(kind='pie',autopct='%.2f%%')\n",
    "plt.show()\n",
    "df.groupby('sex')['smoker'].value_counts()\n"
   ]
  },
  {
   "cell_type": "code",
   "execution_count": null,
   "id": "c1bd3773-5fc8-494e-bd41-b4bf55023067",
   "metadata": {},
   "outputs": [],
   "source": [
    "pd.crosstab(df['smoker'],df['sex']).plot(kind='bar')\n",
    "plt.show()"
   ]
  },
  {
   "cell_type": "code",
   "execution_count": null,
   "id": "172ecc14-a04e-44e8-8623-dcc941ca40fc",
   "metadata": {},
   "outputs": [],
   "source": [
    "df.groupby('day')['tip'].mean()\n"
   ]
  },
  {
   "cell_type": "code",
   "execution_count": null,
   "id": "4ca0b2a0-ba77-47f4-89d9-5c8856930cc7",
   "metadata": {},
   "outputs": [],
   "source": [
    "sns.barplot(x='day',y='tip',data=df)\n",
    "plt.show()"
   ]
  },
  {
   "cell_type": "code",
   "execution_count": null,
   "id": "ee9b3b8d-9c54-40c5-bd82-3d801369298b",
   "metadata": {},
   "outputs": [],
   "source": [
    "df.groupby('size')['total_bill'].mean().plot(kind='bar')\n",
    "plt.show()"
   ]
  },
  {
   "cell_type": "code",
   "execution_count": null,
   "id": "cd6f4945-9c37-4778-b59a-e94432c84c7e",
   "metadata": {},
   "outputs": [],
   "source": [
    "sns.boxplot(x='total_bill',y='sex',data=df)\n",
    "plt.show()"
   ]
  },
  {
   "cell_type": "code",
   "execution_count": null,
   "id": "4b12d23a-f1c8-47bc-9e31-cda73af3b2fe",
   "metadata": {},
   "outputs": [],
   "source": [
    "df.groupby(['time','day'])['total_bill'].max()\n"
   ]
  },
  {
   "cell_type": "code",
   "execution_count": null,
   "id": "38078d89-e6a4-4407-bb68-d9a8c4a7c25f",
   "metadata": {},
   "outputs": [],
   "source": [
    "df.isnull().sum()/len(df)*100\n"
   ]
  },
  {
   "cell_type": "code",
   "execution_count": null,
   "id": "312334fe-1a72-448f-b50b-1c554e000667",
   "metadata": {},
   "outputs": [],
   "source": [
    "len(df[df.duplicated()])\n"
   ]
  },
  {
   "cell_type": "code",
   "execution_count": null,
   "id": "ee437ec4-023e-4b16-b6c6-91fec8bfb9bf",
   "metadata": {},
   "outputs": [],
   "source": [
    "df.drop_duplicates(inplace=True)"
   ]
  },
  {
   "cell_type": "code",
   "execution_count": null,
   "id": "c481821a-3d16-4403-a9ab-13e0f701a50a",
   "metadata": {},
   "outputs": [],
   "source": [
    "len(df[df.duplicated()])\n"
   ]
  },
  {
   "cell_type": "code",
   "execution_count": null,
   "id": "6c844c28-06e6-4dc5-895c-9151117fd259",
   "metadata": {},
   "outputs": [],
   "source": [
    "## boxplot before treatment\n",
    "sns.boxplot(df['total_bill'])\n",
    "plt.show()"
   ]
  },
  {
   "cell_type": "code",
   "execution_count": null,
   "id": "044c36b3-f01a-41b3-90c7-e5c2040a2c4d",
   "metadata": {},
   "outputs": [],
   "source": [
    "## treating outliers using log transformation\n",
    "df['total_bill_trans'] = np.log(df['total_bill'])\n",
    "\n",
    "## boxplot after transformation\n",
    "sns.boxplot(df['total_bill_trans'])\n",
    "plt.show()"
   ]
  },
  {
   "cell_type": "code",
   "execution_count": null,
   "id": "2fd26876-baea-4569-8c7d-4d74c9a4356a",
   "metadata": {},
   "outputs": [],
   "source": [
    "sns.boxplot(df['tip'])\n",
    "plt.show()\n"
   ]
  },
  {
   "cell_type": "code",
   "execution_count": null,
   "id": "f2e3af96-cab7-4385-942a-0cdf8489d195",
   "metadata": {},
   "outputs": [],
   "source": [
    "# Using IQR method\n",
    "Q1 = df['tip'].quantile(0.25)\n",
    "Q3 = df['tip'].quantile(0.75)\n",
    "IQR = Q3-Q1\n",
    "\n",
    "lower_whisker  = Q1-(1.5*IQR)\n",
    "upper_whisker  = Q3+(1.5*IQR)\n"
   ]
  },
  {
   "cell_type": "code",
   "execution_count": null,
   "id": "a15b83d0-bacb-4e32-b4d9-8c319997da7b",
   "metadata": {},
   "outputs": [],
   "source": [
    "df_out = df.loc[(df['tip'] < upper_whisker) & (df['tip'] > lower_whisker)] # rows without outliers\n"
   ]
  },
  {
   "cell_type": "code",
   "execution_count": null,
   "id": "447ca059-2983-464f-b2bb-087ca2bac0b4",
   "metadata": {},
   "outputs": [],
   "source": [
    "sns.boxplot(df_out['tip'])\n",
    "plt.show()\n"
   ]
  },
  {
   "cell_type": "code",
   "execution_count": null,
   "id": "3a9414b6-79e8-4e60-9df7-eef2e9bbfb2a",
   "metadata": {},
   "outputs": [],
   "source": [
    "df = pd.get_dummies(df,drop_first=True)\n",
    "df.sample(5)\n"
   ]
  },
  {
   "cell_type": "code",
   "execution_count": null,
   "id": "3f90f66b-48bd-4bc3-a3e6-ca9caa5664b8",
   "metadata": {},
   "outputs": [],
   "source": [
    "tb_max = df['total_bill'].max()\n",
    "tb_min = df['total_bill'].min()\n",
    "range_ = tb_max-tb_min\n",
    "print(range_)\n"
   ]
  },
  {
   "cell_type": "code",
   "execution_count": null,
   "id": "df4d3aa0-6734-4f53-b4bf-7b1eb90ca663",
   "metadata": {},
   "outputs": [],
   "source": [
    "## initialize minmaxscalar\n",
    "mm = MinMaxScaler()\n"
   ]
  },
  {
   "cell_type": "code",
   "execution_count": null,
   "id": "b9371e40-8c05-47aa-992e-a1b6224fb143",
   "metadata": {},
   "outputs": [],
   "source": [
    "## Normalizing the values of the total_bill, so that the range will be 1.\n",
    "df['total_bill_mm'] = mm.fit_transform(df[['total_bill']])\n"
   ]
  },
  {
   "cell_type": "code",
   "execution_count": null,
   "id": "9606a402-0270-43a9-8de6-e5d3912387eb",
   "metadata": {},
   "outputs": [],
   "source": [
    "## checking the range after normalization\n",
    "tb_mm_max = df['total_bill_mm'].max()\n",
    "tb_mm_min = df['total_bill_mm'].min()\n",
    "range_ = tb_mm_max-tb_mm_min\n",
    "print(range_)\n"
   ]
  },
  {
   "cell_type": "code",
   "execution_count": null,
   "id": "bd11a333-c541-4471-a15e-e066ef5fb085",
   "metadata": {},
   "outputs": [],
   "source": [
    "## Loading the dataset again as 'tips_df'\n",
    "tips_df = pd.read_csv('/content/drive/MyDrive/Datasets/tips.csv')\n",
    "tips_df.head(2)"
   ]
  },
  {
   "cell_type": "code",
   "execution_count": null,
   "id": "bb51ad4c-0598-4904-9aa0-1a10b70a0684",
   "metadata": {},
   "outputs": [],
   "source": [
    "## Encoding categorical variables\n",
    "tips_df = pd.get_dummies(tips_df,drop_first=True)\n",
    "tips_df.head(2)\n"
   ]
  },
  {
   "cell_type": "code",
   "execution_count": null,
   "id": "9616b785-0f62-4340-9e7b-a2be3395d22c",
   "metadata": {},
   "outputs": [],
   "source": [
    "## Storing the target column in Y variable and the rest of the columns in the X variable.\n",
    "X = tips_df.drop('tip',axis=1)\n",
    "y = tips_df['tip']\n"
   ]
  },
  {
   "cell_type": "code",
   "execution_count": null,
   "id": "d7157f8a-5357-4d60-9323-1681ce49cd83",
   "metadata": {},
   "outputs": [],
   "source": [
    "## Split the data\n",
    "X_train, X_test, y_train, y_test = train_test_split(X,y,test_size=0.30)\n",
    "print(X_train.shape,X_test.shape)\n",
    "print(y_train.shape,y_test.shape)\n",
    "\n",
    "## Scaling the data using min max scaling\n",
    "mm = MinMaxScaler()\n",
    "\n",
    "X_train.iloc[:,:2] = mm.fit_transform(X_train.iloc[:,:2])\n",
    "X_test.iloc[:,:2] = mm.transform(X_test.iloc[:,:2])\n"
   ]
  },
  {
   "cell_type": "code",
   "execution_count": null,
   "id": "3e20efe4-c476-44f2-b9e4-c5f00dfd51b0",
   "metadata": {},
   "outputs": [],
   "source": [
    "## Fitting a linear regression model on the train data\n",
    "lr = LinearRegression()\n",
    "lr.fit(X_train,y_train)\n"
   ]
  },
  {
   "cell_type": "code",
   "execution_count": null,
   "id": "8d7c41fa-46bd-4cb2-953c-72842132340e",
   "metadata": {},
   "outputs": [],
   "source": [
    "## Making predictions on the test data\n",
    "pred = lr.predict(X_test)\n"
   ]
  },
  {
   "cell_type": "code",
   "execution_count": null,
   "id": "e6ded312-6b26-4e11-8cfa-62e7b7ccfeee",
   "metadata": {},
   "outputs": [],
   "source": [
    "## Computing r2_score\n",
    "print('r2-score test:', r2_score(y_test,pred))\n"
   ]
  },
  {
   "cell_type": "code",
   "execution_count": null,
   "id": "91489bb8-b431-4c77-b9db-4d8a2ba5a219",
   "metadata": {},
   "outputs": [],
   "source": []
  }
 ],
 "metadata": {
  "kernelspec": {
   "display_name": "Python 3 (ipykernel)",
   "language": "python",
   "name": "python3"
  },
  "language_info": {
   "codemirror_mode": {
    "name": "ipython",
    "version": 3
   },
   "file_extension": ".py",
   "mimetype": "text/x-python",
   "name": "python",
   "nbconvert_exporter": "python",
   "pygments_lexer": "ipython3",
   "version": "3.11.7"
  }
 },
 "nbformat": 4,
 "nbformat_minor": 5
}
